{
 "cells": [
  {
   "cell_type": "markdown",
   "metadata": {},
   "source": [
    "## Evaluation of baseline models"
   ]
  },
  {
   "cell_type": "code",
   "execution_count": 1,
   "metadata": {},
   "outputs": [],
   "source": [
    "import pandas as pd\n",
    "import gensim\n",
    "from nltk.translate import bleu_score"
   ]
  },
  {
   "cell_type": "code",
   "execution_count": 2,
   "metadata": {},
   "outputs": [],
   "source": [
    "def read_table(conll_path):\n",
    "    table = pd.read_table(conll_path, names=[\"#\", \"word\", \"lemma\", \"cp\", \"p\", \"f\", \"h\", \"d\", \"m1\", \"m2\"],\n",
    "                          delimiter='\\t', encoding='utf-8', error_bad_lines=False)\n",
    "    return table.dropna()"
   ]
  },
  {
   "cell_type": "code",
   "execution_count": 3,
   "metadata": {},
   "outputs": [],
   "source": [
    "train_tsv = read_table('UD_English-EWT/en_ewt-ud-train.conllu')\n",
    "dev_tsv = read_table('UD_English-EWT/en_ewt-ud-dev.conllu')\n",
    "test_tsv = read_table('UD_English-EWT/en_ewt-ud-test.conllu')"
   ]
  },
  {
   "cell_type": "code",
   "execution_count": 4,
   "metadata": {},
   "outputs": [],
   "source": [
    "train_words = train_tsv[\"word\"].values[:10000]\n",
    "train_lemmas = train_tsv[\"lemma\"].values[:10000]\n",
    "\n",
    "dev_words = dev_tsv[\"word\"].values[:2000]\n",
    "dev_lemmas = dev_tsv[\"lemma\"].values[:2000]\n",
    "\n",
    "test_words = test_tsv[\"word\"].values[:2000]\n",
    "test_lemmas = test_tsv[\"lemma\"].values[:2000]"
   ]
  },
  {
   "cell_type": "code",
   "execution_count": 5,
   "metadata": {},
   "outputs": [
    {
     "data": {
      "text/plain": [
       "(10000, 2000, 2000)"
      ]
     },
     "execution_count": 5,
     "metadata": {},
     "output_type": "execute_result"
    }
   ],
   "source": [
    "len(train_words), len(dev_words), len(test_words)"
   ]
  },
  {
   "cell_type": "code",
   "execution_count": 6,
   "metadata": {},
   "outputs": [],
   "source": [
    "def read_sents(path):\n",
    "    with open(path, 'r', encoding='utf8') as src:\n",
    "        sents = []\n",
    "        lem_seqs = []\n",
    "        sent = []\n",
    "        seq = []\n",
    "        for line in src:\n",
    "            if len(line) > 2 and not line.startswith('#'):\n",
    "                values = line.split('\\t')\n",
    "                sent.append(values[1])\n",
    "                seq.append(values[2])\n",
    "            elif len(sent) > 0:\n",
    "                sents.append(sent)\n",
    "                lem_seqs.append(seq)\n",
    "                sent = []\n",
    "                seq = []\n",
    "    return sents, lem_seqs"
   ]
  },
  {
   "cell_type": "code",
   "execution_count": 7,
   "metadata": {},
   "outputs": [],
   "source": [
    "test_sents, test_references = read_sents('UD_English-EWT/en_ewt-ud-test.conllu')"
   ]
  },
  {
   "cell_type": "code",
   "execution_count": 8,
   "metadata": {},
   "outputs": [
    {
     "data": {
      "text/plain": [
       "(['What', 'if', 'Google', 'Morphed', 'Into', 'GoogleOS', '?'],\n",
       " ['what', 'if', 'Google', 'morph', 'into', 'GoogleOS', '?'])"
      ]
     },
     "execution_count": 8,
     "metadata": {},
     "output_type": "execute_result"
    }
   ],
   "source": [
    "test_sents[0], test_references[0]"
   ]
  },
  {
   "cell_type": "code",
   "execution_count": 9,
   "metadata": {},
   "outputs": [
    {
     "data": {
      "text/plain": [
       "[['what', 'if', 'Google', 'morph', 'into', 'GoogleOS', '?']]"
      ]
     },
     "execution_count": 9,
     "metadata": {},
     "output_type": "execute_result"
    }
   ],
   "source": [
    "corpus_references = [[reference] for reference in test_references]\n",
    "corpus_references[0]"
   ]
  },
  {
   "cell_type": "code",
   "execution_count": 24,
   "metadata": {},
   "outputs": [],
   "source": [
    "def evaluate(predictions, lemmas):\n",
    "    score = 0\n",
    "    for prediction, lemma in zip(predictions, lemmas):\n",
    "        if prediction == lemma:\n",
    "            score += 1\n",
    "    example_count = len(predictions)\n",
    "    percentage = 100 * score / example_count\n",
    "    print('{}\\t- total examples count'.format(example_count))\n",
    "    print('{}\\t- correctly lemmatized'.format(score))\n",
    "    print('{:.2f}%\\t- accuracy on test set'.format(percentage))\n",
    "    return percentage\n"
   ]
  },
  {
   "cell_type": "markdown",
   "metadata": {},
   "source": [
    "### Baseline 1:  identity function"
   ]
  },
  {
   "cell_type": "code",
   "execution_count": 25,
   "metadata": {},
   "outputs": [
    {
     "name": "stdout",
     "output_type": "stream",
     "text": [
      "2000\t- total examples count\n",
      "1577\t- correctly lemmatized\n",
      "78.85%\t- accuracy on test set\n"
     ]
    },
    {
     "data": {
      "text/plain": [
       "78.85"
      ]
     },
     "execution_count": 25,
     "metadata": {},
     "output_type": "execute_result"
    }
   ],
   "source": [
    "evaluate(dev_words, dev_lemmas)"
   ]
  },
  {
   "cell_type": "code",
   "execution_count": 26,
   "metadata": {},
   "outputs": [
    {
     "name": "stdout",
     "output_type": "stream",
     "text": [
      "2000\t- total examples count\n",
      "1563\t- correctly lemmatized\n",
      "78.15%\t- accuracy on test set\n"
     ]
    },
    {
     "data": {
      "text/plain": [
       "78.15"
      ]
     },
     "execution_count": 26,
     "metadata": {},
     "output_type": "execute_result"
    }
   ],
   "source": [
    "evaluate(test_words, test_lemmas)"
   ]
  },
  {
   "cell_type": "code",
   "execution_count": 27,
   "metadata": {},
   "outputs": [
    {
     "data": {
      "text/plain": [
       "0.5799287236130222"
      ]
     },
     "execution_count": 27,
     "metadata": {},
     "output_type": "execute_result"
    }
   ],
   "source": [
    "bleu_score.corpus_bleu(corpus_references, test_sents)"
   ]
  },
  {
   "cell_type": "markdown",
   "metadata": {},
   "source": [
    "### Baseline 2: most frequent lemma among seen in the corpus, with identity backoff for unknown words"
   ]
  },
  {
   "cell_type": "code",
   "execution_count": 28,
   "metadata": {},
   "outputs": [],
   "source": [
    "w2l_count = {}\n",
    "for word, lemma in zip(train_words, train_lemmas):\n",
    "    if word in w2l_count:\n",
    "        w2l_count[word][lemma] = w2l_count[word].get(lemma, 0) + 1\n",
    "    else:\n",
    "        w2l_count[word] = {lemma: 1}\n",
    "        \n",
    "w2l = {}\n",
    "for word in w2l_count:\n",
    "    w2l[word] = sorted(w2l_count[word], key=w2l_count[word].get)[-1]"
   ]
  },
  {
   "cell_type": "code",
   "execution_count": 29,
   "metadata": {},
   "outputs": [],
   "source": [
    "dev_predictions = [w2l.get(word, word) for word in dev_words]\n",
    "test_predictions = [w2l.get(word, word) for word in test_words]"
   ]
  },
  {
   "cell_type": "code",
   "execution_count": 30,
   "metadata": {},
   "outputs": [
    {
     "name": "stdout",
     "output_type": "stream",
     "text": [
      "2000\t- total examples count\n",
      "1853\t- correctly lemmatized\n",
      "92.65%\t- accuracy on test set\n"
     ]
    }
   ],
   "source": [
    "dev_percentage = evaluate(dev_predictions, dev_lemmas)"
   ]
  },
  {
   "cell_type": "code",
   "execution_count": 31,
   "metadata": {},
   "outputs": [
    {
     "name": "stdout",
     "output_type": "stream",
     "text": [
      "2000\t- total examples count\n",
      "1828\t- correctly lemmatized\n",
      "91.40%\t- accuracy on test set\n"
     ]
    }
   ],
   "source": [
    "test_percentage = evaluate(test_predictions, test_lemmas)"
   ]
  },
  {
   "cell_type": "code",
   "execution_count": 32,
   "metadata": {},
   "outputs": [
    {
     "data": {
      "text/plain": [
       "['what', 'if', 'Google', 'Morphed', 'Into', 'GoogleOS', '?']"
      ]
     },
     "execution_count": 32,
     "metadata": {},
     "output_type": "execute_result"
    }
   ],
   "source": [
    "predicted_seq = [[w2l.get(w, w) for w in sent] for sent in test_sents]\n",
    "predicted_seq[0]"
   ]
  },
  {
   "cell_type": "code",
   "execution_count": 22,
   "metadata": {},
   "outputs": [
    {
     "data": {
      "text/plain": [
       "0.7727198014704395"
      ]
     },
     "execution_count": 22,
     "metadata": {},
     "output_type": "execute_result"
    }
   ],
   "source": [
    "bleu_score.corpus_bleu(corpus_references, predicted_seq)"
   ]
  }
 ],
 "metadata": {
  "anaconda-cloud": {},
  "kernelspec": {
   "display_name": "Python 3",
   "language": "python",
   "name": "python3"
  },
  "language_info": {
   "codemirror_mode": {
    "name": "ipython",
    "version": 3
   },
   "file_extension": ".py",
   "mimetype": "text/x-python",
   "name": "python",
   "nbconvert_exporter": "python",
   "pygments_lexer": "ipython3",
   "version": "3.5.2"
  }
 },
 "nbformat": 4,
 "nbformat_minor": 1
}
