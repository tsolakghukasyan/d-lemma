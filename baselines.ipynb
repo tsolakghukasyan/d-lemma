{
 "cells": [
  {
   "cell_type": "markdown",
   "metadata": {},
   "source": [
    "## Evaluation of baseline models"
   ]
  },
  {
   "cell_type": "code",
   "execution_count": 54,
   "metadata": {},
   "outputs": [],
   "source": [
    "import pandas as pd\n",
    "import gensim\n",
    "from nltk.translate import bleu_score"
   ]
  },
  {
   "cell_type": "code",
   "execution_count": 3,
   "metadata": {},
   "outputs": [],
   "source": [
    "def read_table(conll_path):\n",
    "    table = pd.read_table(conll_path, names=[\"#\", \"word\", \"lemma\", \"cp\", \"p\", \"f\", \"h\", \"d\", \"m1\", \"m2\"],\n",
    "                          delimiter='\\t', encoding='utf-8', error_bad_lines=False)\n",
    "    return table.dropna()"
   ]
  },
  {
   "cell_type": "code",
   "execution_count": 4,
   "metadata": {},
   "outputs": [],
   "source": [
    "train_tsv = read_table('UD_Finnish-TDT-master/fi_tdt-ud-train.conllu')\n",
    "dev_tsv = read_table('UD_Finnish-TDT-master/fi_tdt-ud-dev.conllu')\n",
    "test_tsv = read_table('UD_Finnish-TDT-master/fi_tdt-ud-test.conllu')"
   ]
  },
  {
   "cell_type": "code",
   "execution_count": 8,
   "metadata": {},
   "outputs": [],
   "source": [
    "train_words = train_tsv[\"word\"].values[:10000]\n",
    "train_lemmas = train_tsv[\"lemma\"].values[:10000]\n",
    "\n",
    "dev_words = dev_tsv[\"word\"].values[:2000]\n",
    "dev_lemmas = dev_tsv[\"lemma\"].values[:2000]\n",
    "\n",
    "test_words = test_tsv[\"word\"].values[:2000]\n",
    "test_lemmas = test_tsv[\"lemma\"].values[:2000]"
   ]
  },
  {
   "cell_type": "code",
   "execution_count": 36,
   "metadata": {},
   "outputs": [
    {
     "data": {
      "text/plain": [
       "(10000, 2000, 2000)"
      ]
     },
     "execution_count": 36,
     "metadata": {},
     "output_type": "execute_result"
    }
   ],
   "source": [
    "len(train_words), len(dev_words), len(test_words)"
   ]
  },
  {
   "cell_type": "code",
   "execution_count": 16,
   "metadata": {},
   "outputs": [],
   "source": [
    "def read_sents(path):\n",
    "    with open(path, 'r', encoding='utf8') as src:\n",
    "        sents = []\n",
    "        lem_seqs = []\n",
    "        sent = []\n",
    "        seq = []\n",
    "        for line in src:\n",
    "            if len(line) > 2 and not line.startswith('#'):\n",
    "                values = line.split('\\t')\n",
    "                sent.append(values[1])\n",
    "                seq.append(values[2])\n",
    "            elif len(sent) > 0:\n",
    "                sents.append(sent)\n",
    "                lem_seqs.append(seq)\n",
    "                sent = []\n",
    "                seq = []\n",
    "    return sents, lem_seqs"
   ]
  },
  {
   "cell_type": "code",
   "execution_count": 17,
   "metadata": {},
   "outputs": [],
   "source": [
    "test_sents, test_references = read_sents('UD_Finnish-TDT-master/fi_tdt-ud-test.conllu')"
   ]
  },
  {
   "cell_type": "code",
   "execution_count": 18,
   "metadata": {},
   "outputs": [
    {
     "data": {
      "text/plain": [
       "(['Taas', 'teatteriin'], ['taas', 'teatteri'])"
      ]
     },
     "execution_count": 18,
     "metadata": {},
     "output_type": "execute_result"
    }
   ],
   "source": [
    "test_sents[0], test_references[0]"
   ]
  },
  {
   "cell_type": "code",
   "execution_count": 19,
   "metadata": {},
   "outputs": [
    {
     "data": {
      "text/plain": [
       "[['taas', 'teatteri']]"
      ]
     },
     "execution_count": 19,
     "metadata": {},
     "output_type": "execute_result"
    }
   ],
   "source": [
    "corpus_references = [[reference] for reference in test_references]\n",
    "corpus_references[0]"
   ]
  },
  {
   "cell_type": "code",
   "execution_count": 33,
   "metadata": {},
   "outputs": [],
   "source": [
    "def evaluate(predictions, lemmas):\n",
    "    score = 0\n",
    "    for prediction, lemma in zip(predictions, lemmas):\n",
    "        if prediction == lemma:\n",
    "            score += 1\n",
    "    example_count = len(predictions)\n",
    "    percentage = 100 * score / example_count\n",
    "    print('example count:', example_count)\n",
    "    print('correct count:', score)\n",
    "    print('correct percentage:', percentage)\n",
    "    return percentage\n"
   ]
  },
  {
   "cell_type": "markdown",
   "metadata": {},
   "source": [
    "### Baseline 1:  identity function"
   ]
  },
  {
   "cell_type": "code",
   "execution_count": 34,
   "metadata": {},
   "outputs": [
    {
     "name": "stdout",
     "output_type": "stream",
     "text": [
      "example count: 2000\n",
      "correct count: 905\n",
      "correct percentage: 45.25\n"
     ]
    },
    {
     "data": {
      "text/plain": [
       "45.25"
      ]
     },
     "execution_count": 34,
     "metadata": {},
     "output_type": "execute_result"
    }
   ],
   "source": [
    "evaluate(dev_words, dev_lemmas)"
   ]
  },
  {
   "cell_type": "code",
   "execution_count": 35,
   "metadata": {},
   "outputs": [
    {
     "name": "stdout",
     "output_type": "stream",
     "text": [
      "example count: 2000\n",
      "correct count: 947\n",
      "correct percentage: 47.35\n"
     ]
    },
    {
     "data": {
      "text/plain": [
       "47.35"
      ]
     },
     "execution_count": 35,
     "metadata": {},
     "output_type": "execute_result"
    }
   ],
   "source": [
    "evaluate(test_words, test_lemmas)"
   ]
  },
  {
   "cell_type": "code",
   "execution_count": 42,
   "metadata": {},
   "outputs": [
    {
     "data": {
      "text/plain": [
       "0.12764899924747228"
      ]
     },
     "execution_count": 42,
     "metadata": {},
     "output_type": "execute_result"
    }
   ],
   "source": [
    "bleu_score.corpus_bleu(corpus_references, test_sents)"
   ]
  },
  {
   "cell_type": "markdown",
   "metadata": {},
   "source": [
    "### Baseline 2: most frequent lemma among seen in the corpus, with identity backoff for unknown words"
   ]
  },
  {
   "cell_type": "code",
   "execution_count": 31,
   "metadata": {},
   "outputs": [],
   "source": [
    "w2l_count = {}\n",
    "for word, lemma in zip(train_words, train_lemmas):\n",
    "    if word in w2l_count:\n",
    "        w2l_count[word][lemma] = w2l_count[word].get(lemma, 0) + 1\n",
    "    else:\n",
    "        w2l_count[word] = {lemma: 1}\n",
    "        \n",
    "w2l = {}\n",
    "for word in w2l_count:\n",
    "    w2l[word] = sorted(w2l_count[word], key=w2l_count[word].get)[-1]"
   ]
  },
  {
   "cell_type": "code",
   "execution_count": 37,
   "metadata": {},
   "outputs": [],
   "source": [
    "dev_predictions = [w2l.get(word, word) for word in dev_words]\n",
    "test_predictions = [w2l.get(word, word) for word in test_words]"
   ]
  },
  {
   "cell_type": "code",
   "execution_count": 51,
   "metadata": {},
   "outputs": [
    {
     "name": "stdout",
     "output_type": "stream",
     "text": [
      "example count: 2000\n",
      "correct count: 1259\n",
      "correct percentage: 62.95\n"
     ]
    }
   ],
   "source": [
    "dev_percentage = evaluate(dev_predictions, dev_lemmas)"
   ]
  },
  {
   "cell_type": "code",
   "execution_count": 52,
   "metadata": {},
   "outputs": [
    {
     "name": "stdout",
     "output_type": "stream",
     "text": [
      "example count: 2000\n",
      "correct count: 1330\n",
      "correct percentage: 66.5\n"
     ]
    }
   ],
   "source": [
    "test_percentage = eval_baseline(test_predictions, test_lemmas)"
   ]
  },
  {
   "cell_type": "code",
   "execution_count": 49,
   "metadata": {},
   "outputs": [
    {
     "data": {
      "text/plain": [
       "['Taas', 'teatteriin']"
      ]
     },
     "execution_count": 49,
     "metadata": {},
     "output_type": "execute_result"
    }
   ],
   "source": [
    "predicted_seq = [[w2l.get(w, w) for w in sent] for sent in test_sents]\n",
    "predicted_seq[0]"
   ]
  },
  {
   "cell_type": "code",
   "execution_count": 50,
   "metadata": {},
   "outputs": [
    {
     "data": {
      "text/plain": [
       "0.29064103544959363"
      ]
     },
     "execution_count": 50,
     "metadata": {},
     "output_type": "execute_result"
    }
   ],
   "source": [
    "bleu_score.corpus_bleu(corpus_references, predicted_seq)"
   ]
  }
 ],
 "metadata": {
  "anaconda-cloud": {},
  "kernelspec": {
   "display_name": "Python 3",
   "language": "python",
   "name": "python3"
  },
  "language_info": {
   "codemirror_mode": {
    "name": "ipython",
    "version": 3
   },
   "file_extension": ".py",
   "mimetype": "text/x-python",
   "name": "python",
   "nbconvert_exporter": "python",
   "pygments_lexer": "ipython3",
   "version": "3.5.2"
  }
 },
 "nbformat": 4,
 "nbformat_minor": 1
}
