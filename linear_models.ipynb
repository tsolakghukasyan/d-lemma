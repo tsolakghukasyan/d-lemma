{
 "cells": [
  {
   "cell_type": "markdown",
   "metadata": {},
   "source": [
    "## Linear regression models"
   ]
  },
  {
   "cell_type": "code",
   "execution_count": 2,
   "metadata": {},
   "outputs": [
    {
     "name": "stderr",
     "output_type": "stream",
     "text": [
      "/usr/local/lib/python3.5/dist-packages/h5py/__init__.py:36: FutureWarning: Conversion of the second argument of issubdtype from `float` to `np.floating` is deprecated. In future, it will be treated as `np.float64 == np.dtype(float).type`.\n",
      "  from ._conv import register_converters as _register_converters\n",
      "Using TensorFlow backend.\n"
     ]
    }
   ],
   "source": [
    "import numpy as np\n",
    "import pandas as pd\n",
    "import nltk\n",
    "import gensim\n",
    "from keras.models import Sequential\n",
    "from keras.layers import Dense, Activation, Embedding\n",
    "from keras.optimizers import RMSprop\n",
    "from nltk.translate import bleu_score"
   ]
  },
  {
   "cell_type": "markdown",
   "metadata": {},
   "source": [
    "#### reading and preparing data"
   ]
  },
  {
   "cell_type": "code",
   "execution_count": 3,
   "metadata": {},
   "outputs": [],
   "source": [
    "# reading fastText word embeddings\n",
    "vec_model = gensim.models.fasttext.FastText.load_fasttext_format('fasttext/cc.fi.300.bin')"
   ]
  },
  {
   "cell_type": "code",
   "execution_count": 4,
   "metadata": {},
   "outputs": [],
   "source": [
    "# reads conll dataset\n",
    "def read_table(conll_path):\n",
    "    table = pd.read_table(conll_path, names=[\"#\", \"word\", \"lemma\", \"cp\", \"p\", \"f\", \"h\", \"d\", \"m1\", \"m2\"],\n",
    "                          delimiter='\\t', encoding='utf-8', error_bad_lines=False)\n",
    "    return table.dropna()"
   ]
  },
  {
   "cell_type": "code",
   "execution_count": 5,
   "metadata": {},
   "outputs": [],
   "source": [
    "train_tsv = read_table('UD_Finnish-TDT-master/fi_tdt-ud-train.conllu')\n",
    "dev_tsv = read_table('UD_Finnish-TDT-master/fi_tdt-ud-dev.conllu')\n",
    "test_tsv = read_table('UD_Finnish-TDT-master/fi_tdt-ud-test.conllu')"
   ]
  },
  {
   "cell_type": "code",
   "execution_count": 6,
   "metadata": {},
   "outputs": [],
   "source": [
    "# limit the number of training examples\n",
    "train_words = train_tsv[\"word\"].values[:10000]\n",
    "train_lemmas = train_tsv[\"lemma\"].values[:10000]\n",
    "\n",
    "dev_words = dev_tsv[\"word\"].values[:2000]\n",
    "dev_lemmas = dev_tsv[\"lemma\"].values[:2000]\n",
    "\n",
    "test_words = test_tsv[\"word\"].values[:2000]\n",
    "test_lemmas = test_tsv[\"lemma\"].values[:2000]"
   ]
  },
  {
   "cell_type": "code",
   "execution_count": 29,
   "metadata": {},
   "outputs": [],
   "source": [
    "# get data for training and evaluation\n",
    "def get_vec_form(words, lemmas):\n",
    "    x = {'form': [], 'vec': []}\n",
    "    y = {'form': [], 'vec': []}\n",
    "    for w, l in zip(words, lemmas):\n",
    "        try:\n",
    "            new_x = vec_model.wv[w]\n",
    "            new_y = vec_model.wv[l]\n",
    "        except:\n",
    "            continue\n",
    "        x['vec'].append(new_x)\n",
    "        x['form'].append(w)\n",
    "        y['vec'].append(new_y)\n",
    "        y['form'].append(l)\n",
    "    x['vec'] = np.array(x['vec'])\n",
    "    y['vec'] = np.array(y['vec'])\n",
    "    return x, y\n",
    "\n",
    "\n",
    "train_x, train_y = get_vec_form(train_words, train_lemmas)\n",
    "dev_x, dev_y = get_vec_form(dev_words, dev_lemmas)\n",
    "test_x, test_y = get_vec_form(test_words, test_lemmas)"
   ]
  },
  {
   "cell_type": "code",
   "execution_count": 30,
   "metadata": {},
   "outputs": [
    {
     "data": {
      "text/plain": [
       "(9904, 1974, 1996)"
      ]
     },
     "execution_count": 30,
     "metadata": {},
     "output_type": "execute_result"
    }
   ],
   "source": [
    "len(train_x['vec']), len(dev_x['vec']), len(test_x['vec'])"
   ]
  },
  {
   "cell_type": "code",
   "execution_count": 37,
   "metadata": {},
   "outputs": [],
   "source": [
    "def evaluate(predicted_vecs, lemmas):\n",
    "    correct = 0\n",
    "    for i, pred in enumerate(predicted_vecs):\n",
    "        nearest = vec_model.wv.most_similar(positive=[pred], topn=1)\n",
    "        if nearest[0][0] == lemmas[i]:\n",
    "            correct += 1\n",
    "    return correct / len(lemmas)"
   ]
  },
  {
   "cell_type": "markdown",
   "metadata": {},
   "source": [
    "### Linear regression with MSE loss"
   ]
  },
  {
   "cell_type": "code",
   "execution_count": 31,
   "metadata": {},
   "outputs": [],
   "source": [
    "model = Sequential()\n",
    "model.add(Dense(300, activation='linear', input_shape=(300,)))\n",
    "model.compile(loss='mean_squared_error', optimizer=RMSprop())"
   ]
  },
  {
   "cell_type": "code",
   "execution_count": 32,
   "metadata": {
    "scrolled": true
   },
   "outputs": [
    {
     "name": "stdout",
     "output_type": "stream",
     "text": [
      "Train on 9904 samples, validate on 1974 samples\n",
      "Epoch 1/40\n",
      "9904/9904 [==============================] - 0s 20us/step - loss: 0.0034 - val_loss: 0.0025\n",
      "Epoch 2/40\n",
      "9904/9904 [==============================] - 0s 16us/step - loss: 0.0019 - val_loss: 0.0019\n",
      "Epoch 3/40\n",
      "9904/9904 [==============================] - 0s 15us/step - loss: 0.0014 - val_loss: 0.0016\n",
      "Epoch 4/40\n",
      "9904/9904 [==============================] - 0s 15us/step - loss: 0.0012 - val_loss: 0.0014\n",
      "Epoch 5/40\n",
      "9904/9904 [==============================] - 0s 15us/step - loss: 0.0011 - val_loss: 0.0013\n",
      "Epoch 6/40\n",
      "9904/9904 [==============================] - 0s 15us/step - loss: 0.0011 - val_loss: 0.0013\n",
      "Epoch 7/40\n",
      "9904/9904 [==============================] - 0s 15us/step - loss: 0.0010 - val_loss: 0.0012\n",
      "Epoch 8/40\n",
      "9904/9904 [==============================] - 0s 15us/step - loss: 9.7124e-04 - val_loss: 0.0012\n",
      "Epoch 9/40\n",
      "9904/9904 [==============================] - 0s 15us/step - loss: 9.4969e-04 - val_loss: 0.0011\n",
      "Epoch 10/40\n",
      "9904/9904 [==============================] - 0s 16us/step - loss: 9.3481e-04 - val_loss: 0.0011\n",
      "Epoch 11/40\n",
      "9904/9904 [==============================] - 0s 15us/step - loss: 9.2302e-04 - val_loss: 0.0011\n",
      "Epoch 12/40\n",
      "9904/9904 [==============================] - 0s 15us/step - loss: 9.1617e-04 - val_loss: 0.0011\n",
      "Epoch 13/40\n",
      "9904/9904 [==============================] - 0s 16us/step - loss: 9.1149e-04 - val_loss: 0.0011\n",
      "Epoch 14/40\n",
      "9904/9904 [==============================] - 0s 15us/step - loss: 9.0681e-04 - val_loss: 0.0011\n",
      "Epoch 15/40\n",
      "9904/9904 [==============================] - 0s 15us/step - loss: 9.0461e-04 - val_loss: 0.0011\n",
      "Epoch 16/40\n",
      "9904/9904 [==============================] - 0s 16us/step - loss: 9.0346e-04 - val_loss: 0.0011\n",
      "Epoch 17/40\n",
      "9904/9904 [==============================] - 0s 19us/step - loss: 9.0176e-04 - val_loss: 0.0011\n",
      "Epoch 18/40\n",
      "9904/9904 [==============================] - 0s 15us/step - loss: 8.9974e-04 - val_loss: 0.0011\n",
      "Epoch 19/40\n",
      "9904/9904 [==============================] - 0s 19us/step - loss: 8.9987e-04 - val_loss: 0.0011\n",
      "Epoch 20/40\n",
      "9904/9904 [==============================] - 0s 17us/step - loss: 8.9887e-04 - val_loss: 0.0011\n",
      "Epoch 21/40\n",
      "9904/9904 [==============================] - 0s 17us/step - loss: 8.9808e-04 - val_loss: 0.0011\n",
      "Epoch 22/40\n",
      "9904/9904 [==============================] - 0s 18us/step - loss: 8.9803e-04 - val_loss: 0.0011\n",
      "Epoch 23/40\n",
      "9904/9904 [==============================] - 0s 15us/step - loss: 8.9711e-04 - val_loss: 0.0011\n",
      "Epoch 24/40\n",
      "9904/9904 [==============================] - 0s 18us/step - loss: 8.9714e-04 - val_loss: 0.0011\n",
      "Epoch 25/40\n",
      "9904/9904 [==============================] - 0s 15us/step - loss: 8.9561e-04 - val_loss: 0.0011\n",
      "Epoch 26/40\n",
      "9904/9904 [==============================] - 0s 15us/step - loss: 8.9658e-04 - val_loss: 0.0011\n",
      "Epoch 27/40\n",
      "9904/9904 [==============================] - 0s 18us/step - loss: 8.9643e-04 - val_loss: 0.0011\n",
      "Epoch 28/40\n",
      "9904/9904 [==============================] - 0s 18us/step - loss: 8.9610e-04 - val_loss: 0.0011\n",
      "Epoch 29/40\n",
      "9904/9904 [==============================] - 0s 16us/step - loss: 8.9616e-04 - val_loss: 0.0011\n",
      "Epoch 30/40\n",
      "9904/9904 [==============================] - 0s 19us/step - loss: 8.9595e-04 - val_loss: 0.0011\n",
      "Epoch 31/40\n",
      "9904/9904 [==============================] - 0s 16us/step - loss: 8.9500e-04 - val_loss: 0.0011\n",
      "Epoch 32/40\n",
      "9904/9904 [==============================] - 0s 15us/step - loss: 8.9606e-04 - val_loss: 0.0011\n",
      "Epoch 33/40\n",
      "9904/9904 [==============================] - 0s 15us/step - loss: 8.9531e-04 - val_loss: 0.0011\n",
      "Epoch 34/40\n",
      "9904/9904 [==============================] - 0s 15us/step - loss: 8.9615e-04 - val_loss: 0.0011\n",
      "Epoch 35/40\n",
      "9904/9904 [==============================] - 0s 16us/step - loss: 8.9483e-04 - val_loss: 0.0011\n",
      "Epoch 36/40\n",
      "9904/9904 [==============================] - 0s 19us/step - loss: 8.9558e-04 - val_loss: 0.0011\n",
      "Epoch 37/40\n",
      "9904/9904 [==============================] - 0s 16us/step - loss: 8.9584e-04 - val_loss: 0.0011\n",
      "Epoch 38/40\n",
      "9904/9904 [==============================] - 0s 18us/step - loss: 8.9481e-04 - val_loss: 0.0011\n",
      "Epoch 39/40\n",
      "9904/9904 [==============================] - 0s 17us/step - loss: 8.9521e-04 - val_loss: 0.0011\n",
      "Epoch 40/40\n",
      "9904/9904 [==============================] - 0s 18us/step - loss: 8.9573e-04 - val_loss: 0.0011\n"
     ]
    },
    {
     "data": {
      "text/plain": [
       "<keras.callbacks.History at 0x7f84b0d0fb70>"
      ]
     },
     "execution_count": 32,
     "metadata": {},
     "output_type": "execute_result"
    }
   ],
   "source": [
    "model.fit(train_x['vec'], train_y['vec'], validation_data=(dev_x['vec'], dev_y['vec']), \n",
    "          epochs=40, batch_size=128, verbose=True)"
   ]
  },
  {
   "cell_type": "code",
   "execution_count": 33,
   "metadata": {},
   "outputs": [],
   "source": [
    "test_pred = model.predict(test_x['vec'])"
   ]
  },
  {
   "cell_type": "code",
   "execution_count": 38,
   "metadata": {},
   "outputs": [
    {
     "data": {
      "text/plain": [
       "0.6743486973947895"
      ]
     },
     "execution_count": 38,
     "metadata": {},
     "output_type": "execute_result"
    }
   ],
   "source": [
    "evaluate(test_pred, test_y['form'])"
   ]
  },
  {
   "cell_type": "markdown",
   "metadata": {},
   "source": [
    "### Linear regression with cosine proximity loss"
   ]
  },
  {
   "cell_type": "code",
   "execution_count": 41,
   "metadata": {},
   "outputs": [],
   "source": [
    "model2 = Sequential()\n",
    "model2.add(Dense(300, activation='linear', input_shape=(300,)))\n",
    "model2.compile(loss='cosine_proximity', optimizer=RMSprop())"
   ]
  },
  {
   "cell_type": "code",
   "execution_count": 42,
   "metadata": {
    "scrolled": true
   },
   "outputs": [
    {
     "name": "stdout",
     "output_type": "stream",
     "text": [
      "Train on 9904 samples, validate on 1974 samples\n",
      "Epoch 1/40\n",
      "9904/9904 [==============================] - 0s 28us/step - loss: -0.4997 - val_loss: -0.6195\n",
      "Epoch 2/40\n",
      "9904/9904 [==============================] - 0s 20us/step - loss: -0.6899 - val_loss: -0.6971\n",
      "Epoch 3/40\n",
      "9904/9904 [==============================] - 0s 20us/step - loss: -0.7490 - val_loss: -0.7366\n",
      "Epoch 4/40\n",
      "9904/9904 [==============================] - 0s 19us/step - loss: -0.7823 - val_loss: -0.7616\n",
      "Epoch 5/40\n",
      "9904/9904 [==============================] - 0s 20us/step - loss: -0.8041 - val_loss: -0.7808\n",
      "Epoch 6/40\n",
      "9904/9904 [==============================] - 0s 20us/step - loss: -0.8196 - val_loss: -0.7947\n",
      "Epoch 7/40\n",
      "9904/9904 [==============================] - 0s 20us/step - loss: -0.8305 - val_loss: -0.8054\n",
      "Epoch 8/40\n",
      "9904/9904 [==============================] - 0s 20us/step - loss: -0.8380 - val_loss: -0.8128\n",
      "Epoch 9/40\n",
      "9904/9904 [==============================] - 0s 20us/step - loss: -0.8429 - val_loss: -0.8177\n",
      "Epoch 10/40\n",
      "9904/9904 [==============================] - 0s 20us/step - loss: -0.8460 - val_loss: -0.8202\n",
      "Epoch 11/40\n",
      "9904/9904 [==============================] - 0s 19us/step - loss: -0.8478 - val_loss: -0.8233\n",
      "Epoch 12/40\n",
      "9904/9904 [==============================] - 0s 19us/step - loss: -0.8488 - val_loss: -0.8241\n",
      "Epoch 13/40\n",
      "9904/9904 [==============================] - 0s 20us/step - loss: -0.8497 - val_loss: -0.8250\n",
      "Epoch 14/40\n",
      "9904/9904 [==============================] - 0s 20us/step - loss: -0.8500 - val_loss: -0.8255\n",
      "Epoch 15/40\n",
      "9904/9904 [==============================] - 0s 22us/step - loss: -0.8503 - val_loss: -0.8266\n",
      "Epoch 16/40\n",
      "9904/9904 [==============================] - 0s 24us/step - loss: -0.8506 - val_loss: -0.8262\n",
      "Epoch 17/40\n",
      "9904/9904 [==============================] - 0s 21us/step - loss: -0.8508 - val_loss: -0.8268\n",
      "Epoch 18/40\n",
      "9904/9904 [==============================] - 0s 21us/step - loss: -0.8509 - val_loss: -0.8260\n",
      "Epoch 19/40\n",
      "9904/9904 [==============================] - 0s 23us/step - loss: -0.8510 - val_loss: -0.8269\n",
      "Epoch 20/40\n",
      "9904/9904 [==============================] - 0s 23us/step - loss: -0.8511 - val_loss: -0.8267\n",
      "Epoch 21/40\n",
      "9904/9904 [==============================] - 0s 20us/step - loss: -0.8512 - val_loss: -0.8265\n",
      "Epoch 22/40\n",
      "9904/9904 [==============================] - 0s 23us/step - loss: -0.8513 - val_loss: -0.8270\n",
      "Epoch 23/40\n",
      "9904/9904 [==============================] - 0s 21us/step - loss: -0.8513 - val_loss: -0.8273\n",
      "Epoch 24/40\n",
      "9904/9904 [==============================] - 0s 23us/step - loss: -0.8514 - val_loss: -0.8272\n",
      "Epoch 25/40\n",
      "9904/9904 [==============================] - 0s 19us/step - loss: -0.8515 - val_loss: -0.8272\n",
      "Epoch 26/40\n",
      "9904/9904 [==============================] - 0s 19us/step - loss: -0.8515 - val_loss: -0.8273\n",
      "Epoch 27/40\n",
      "9904/9904 [==============================] - 0s 20us/step - loss: -0.8516 - val_loss: -0.8272\n",
      "Epoch 28/40\n",
      "9904/9904 [==============================] - 0s 19us/step - loss: -0.8517 - val_loss: -0.8271\n",
      "Epoch 29/40\n",
      "9904/9904 [==============================] - 0s 19us/step - loss: -0.8517 - val_loss: -0.8276\n",
      "Epoch 30/40\n",
      "9904/9904 [==============================] - 0s 20us/step - loss: -0.8518 - val_loss: -0.8276\n",
      "Epoch 31/40\n",
      "9904/9904 [==============================] - 0s 19us/step - loss: -0.8518 - val_loss: -0.8275\n",
      "Epoch 32/40\n",
      "9904/9904 [==============================] - 0s 20us/step - loss: -0.8518 - val_loss: -0.8276\n",
      "Epoch 33/40\n",
      "9904/9904 [==============================] - 0s 20us/step - loss: -0.8519 - val_loss: -0.8277\n",
      "Epoch 34/40\n",
      "9904/9904 [==============================] - 0s 20us/step - loss: -0.8519 - val_loss: -0.8275\n",
      "Epoch 35/40\n",
      "9904/9904 [==============================] - 0s 20us/step - loss: -0.8519 - val_loss: -0.8278\n",
      "Epoch 36/40\n",
      "9904/9904 [==============================] - 0s 21us/step - loss: -0.8520 - val_loss: -0.8276\n",
      "Epoch 37/40\n",
      "9904/9904 [==============================] - 0s 24us/step - loss: -0.8521 - val_loss: -0.8275\n",
      "Epoch 38/40\n",
      "9904/9904 [==============================] - 0s 22us/step - loss: -0.8521 - val_loss: -0.8279\n",
      "Epoch 39/40\n",
      "9904/9904 [==============================] - 0s 23us/step - loss: -0.8521 - val_loss: -0.8275\n",
      "Epoch 40/40\n",
      "9904/9904 [==============================] - 0s 25us/step - loss: -0.8522 - val_loss: -0.8274\n"
     ]
    },
    {
     "data": {
      "text/plain": [
       "<keras.callbacks.History at 0x7f84b0d36278>"
      ]
     },
     "execution_count": 42,
     "metadata": {},
     "output_type": "execute_result"
    }
   ],
   "source": [
    "model2.fit(train_x['vec'], train_y['vec'], validation_data=(dev_x['vec'], dev_y['vec']), \n",
    "           epochs=40, batch_size=128, verbose=True)"
   ]
  },
  {
   "cell_type": "code",
   "execution_count": 45,
   "metadata": {},
   "outputs": [
    {
     "data": {
      "text/plain": [
       "0.7314629258517034"
      ]
     },
     "execution_count": 45,
     "metadata": {},
     "output_type": "execute_result"
    }
   ],
   "source": [
    "test_pred2 = model2.predict(test_x['vec'])\n",
    "evaluate(test_pred2, test_x['form'])"
   ]
  }
 ],
 "metadata": {
  "anaconda-cloud": {},
  "kernelspec": {
   "display_name": "Python 3",
   "language": "python",
   "name": "python3"
  },
  "language_info": {
   "codemirror_mode": {
    "name": "ipython",
    "version": 3
   },
   "file_extension": ".py",
   "mimetype": "text/x-python",
   "name": "python",
   "nbconvert_exporter": "python",
   "pygments_lexer": "ipython3",
   "version": "3.5.2"
  }
 },
 "nbformat": 4,
 "nbformat_minor": 1
}
