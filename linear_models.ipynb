{
 "cells": [
  {
   "cell_type": "markdown",
   "metadata": {},
   "source": [
    "## Linear regression models"
   ]
  },
  {
   "cell_type": "code",
   "execution_count": 1,
   "metadata": {},
   "outputs": [
    {
     "name": "stderr",
     "output_type": "stream",
     "text": [
      "/usr/local/lib/python3.5/dist-packages/h5py/__init__.py:36: FutureWarning: Conversion of the second argument of issubdtype from `float` to `np.floating` is deprecated. In future, it will be treated as `np.float64 == np.dtype(float).type`.\n",
      "  from ._conv import register_converters as _register_converters\n",
      "Using TensorFlow backend.\n"
     ]
    }
   ],
   "source": [
    "import numpy as np\n",
    "import pandas as pd\n",
    "import nltk\n",
    "import gensim\n",
    "from keras.models import Sequential\n",
    "from keras.layers import Dense, Activation, Embedding\n",
    "from keras.optimizers import RMSprop\n",
    "from nltk.translate import bleu_score"
   ]
  },
  {
   "cell_type": "markdown",
   "metadata": {},
   "source": [
    "#### reading and preparing data"
   ]
  },
  {
   "cell_type": "code",
   "execution_count": 2,
   "metadata": {},
   "outputs": [],
   "source": [
    "# reading fastText word embeddings\n",
    "# vec_model = gensim.models.fasttext.FastText.load_fasttext_format('fasttext/cc.fi.300.bin')\n",
    "vec_model = gensim.models.KeyedVectors.load_word2vec_format('fasttext/crawl-300d-2M.vec', limit=250000)"
   ]
  },
  {
   "cell_type": "code",
   "execution_count": 3,
   "metadata": {},
   "outputs": [],
   "source": [
    "# reads conll dataset\n",
    "def read_table(conll_path):\n",
    "    table = pd.read_table(conll_path, names=[\"#\", \"word\", \"lemma\", \"cp\", \"p\", \"f\", \"h\", \"d\", \"m1\", \"m2\"],\n",
    "                          delimiter='\\t', encoding='utf-8', error_bad_lines=False)\n",
    "    return table.dropna()"
   ]
  },
  {
   "cell_type": "code",
   "execution_count": 4,
   "metadata": {},
   "outputs": [],
   "source": [
    "train_tsv = read_table('UD_English-EWT/en_ewt-ud-train.conllu')\n",
    "dev_tsv = read_table('UD_English-EWT/en_ewt-ud-dev.conllu')\n",
    "test_tsv = read_table('UD_English-EWT/en_ewt-ud-test.conllu')"
   ]
  },
  {
   "cell_type": "code",
   "execution_count": 5,
   "metadata": {},
   "outputs": [],
   "source": [
    "# limit the number of training examples\n",
    "train_words = train_tsv[\"word\"].values[:10000]\n",
    "train_lemmas = train_tsv[\"lemma\"].values[:10000]\n",
    "\n",
    "dev_words = dev_tsv[\"word\"].values[:2000]\n",
    "dev_lemmas = dev_tsv[\"lemma\"].values[:2000]\n",
    "\n",
    "test_words = test_tsv[\"word\"].values[:2000]\n",
    "test_lemmas = test_tsv[\"lemma\"].values[:2000]"
   ]
  },
  {
   "cell_type": "code",
   "execution_count": 6,
   "metadata": {},
   "outputs": [],
   "source": [
    "# get data for training and evaluation\n",
    "\n",
    "oov = set()\n",
    "\n",
    "def get_vec_form(words, lemmas):\n",
    "    x = {'form': [], 'vec': []}\n",
    "    y = {'form': [], 'vec': []}\n",
    "    for w, l in zip(words, lemmas):\n",
    "        try:\n",
    "            new_x = vec_model[w]\n",
    "        except:\n",
    "            oov.add(w)\n",
    "            continue\n",
    "        try:\n",
    "            new_y = vec_model[l]\n",
    "        except:\n",
    "            oov.add(l)\n",
    "            continue\n",
    "        x['vec'].append(new_x)\n",
    "        x['form'].append(w)\n",
    "        y['vec'].append(new_y)\n",
    "        y['form'].append(l)\n",
    "    x['vec'] = np.array(x['vec'])\n",
    "    y['vec'] = np.array(y['vec'])\n",
    "    return x, y\n",
    "\n",
    "\n",
    "train_x, train_y = get_vec_form(train_words, train_lemmas)\n",
    "dev_x, dev_y = get_vec_form(dev_words, dev_lemmas)\n",
    "test_x, test_y = get_vec_form(test_words, test_lemmas)"
   ]
  },
  {
   "cell_type": "code",
   "execution_count": 7,
   "metadata": {},
   "outputs": [
    {
     "data": {
      "text/plain": [
       "(9783, 1964, 1960)"
      ]
     },
     "execution_count": 7,
     "metadata": {},
     "output_type": "execute_result"
    }
   ],
   "source": [
    "len(train_x['vec']), len(dev_x['vec']), len(test_x['vec'])"
   ]
  },
  {
   "cell_type": "code",
   "execution_count": 8,
   "metadata": {},
   "outputs": [],
   "source": [
    "def evaluate(predicted_vecs, lemmas):\n",
    "    correct = 0\n",
    "    for i, pred in enumerate(predicted_vecs):\n",
    "        nearest = vec_model.most_similar(positive=[pred], topn=1)\n",
    "        if nearest[0][0] == lemmas[i]:\n",
    "            correct += 1\n",
    "    return correct / len(lemmas), correct, len(lemmas)"
   ]
  },
  {
   "cell_type": "markdown",
   "metadata": {},
   "source": [
    "### Linear regression with MSE loss"
   ]
  },
  {
   "cell_type": "code",
   "execution_count": 57,
   "metadata": {},
   "outputs": [],
   "source": [
    "model = Sequential()\n",
    "model.add(Dense(300, activation='linear', input_shape=(300,)))\n",
    "model.compile(loss='mean_squared_error', optimizer=RMSprop())"
   ]
  },
  {
   "cell_type": "code",
   "execution_count": 58,
   "metadata": {
    "scrolled": true
   },
   "outputs": [
    {
     "data": {
      "text/plain": [
       "<keras.callbacks.History at 0x7fe605c04240>"
      ]
     },
     "execution_count": 58,
     "metadata": {},
     "output_type": "execute_result"
    }
   ],
   "source": [
    "model.fit(train_x['vec'], train_y['vec'], validation_data=(dev_x['vec'], dev_y['vec']), \n",
    "          epochs=50, batch_size=128, verbose=False)"
   ]
  },
  {
   "cell_type": "code",
   "execution_count": 59,
   "metadata": {},
   "outputs": [],
   "source": [
    "test_pred = model.predict(test_x['vec'])\n",
    "score, correct, count = evaluate(test_pred, test_y['form'])"
   ]
  },
  {
   "cell_type": "code",
   "execution_count": 60,
   "metadata": {},
   "outputs": [],
   "source": [
    "for w, l in zip(test_words, test_lemmas):\n",
    "    if w in oov or l in oov:\n",
    "        count += 1\n",
    "        if w == l:\n",
    "            correct += 1  # identity backoff\n",
    "            \n",
    "score = correct / count"
   ]
  },
  {
   "cell_type": "code",
   "execution_count": 61,
   "metadata": {},
   "outputs": [
    {
     "name": "stdout",
     "output_type": "stream",
     "text": [
      "85.90%\t- accuracy on test set\n",
      "1718\t- correctly lemmatized tokens\n",
      "2000\t- total\n"
     ]
    }
   ],
   "source": [
    "print('{:.2f}%\\t- accuracy on test set'.format(100 * score))\n",
    "print('{}\\t- correctly lemmatized tokens'.format(correct))\n",
    "print('{}\\t- total'.format(count))"
   ]
  },
  {
   "cell_type": "markdown",
   "metadata": {},
   "source": [
    "### Linear regression with mean absolute error"
   ]
  },
  {
   "cell_type": "code",
   "execution_count": 30,
   "metadata": {},
   "outputs": [],
   "source": [
    "model2 = Sequential()\n",
    "model2.add(Dense(300, activation='linear', input_shape=(300,)))\n",
    "model2.compile(loss='mean_absolute_error', optimizer=RMSprop())"
   ]
  },
  {
   "cell_type": "code",
   "execution_count": 31,
   "metadata": {
    "scrolled": true
   },
   "outputs": [
    {
     "data": {
      "text/plain": [
       "<keras.callbacks.History at 0x7fe603daaa58>"
      ]
     },
     "execution_count": 31,
     "metadata": {},
     "output_type": "execute_result"
    }
   ],
   "source": [
    "model2.fit(train_x['vec'], train_y['vec'], validation_data=(dev_x['vec'], dev_y['vec']), \n",
    "           epochs=150, batch_size=128, verbose=False)"
   ]
  },
  {
   "cell_type": "code",
   "execution_count": 32,
   "metadata": {},
   "outputs": [],
   "source": [
    "test_pred2 = model2.predict(test_x['vec'])\n",
    "score2, correct2, count2 = evaluate(test_pred2, test_y['form'])"
   ]
  },
  {
   "cell_type": "code",
   "execution_count": 35,
   "metadata": {},
   "outputs": [],
   "source": [
    "for w, l in zip(test_words, test_lemmas):\n",
    "    if w in oov or l in oov:\n",
    "        count2 += 1\n",
    "        if w == l:\n",
    "            correct2 += 1  # identity backoff\n",
    "            \n",
    "score2 = correct2 / count2"
   ]
  },
  {
   "cell_type": "code",
   "execution_count": 36,
   "metadata": {},
   "outputs": [
    {
     "name": "stdout",
     "output_type": "stream",
     "text": [
      "81.20%\t- accuracy on test set\n",
      "1624\t- correctly lemmatized tokens\n",
      "2000\t- total\n"
     ]
    }
   ],
   "source": [
    "print('{:.2f}%\\t- accuracy on test set'.format(100 * score2))\n",
    "print('{}\\t- correctly lemmatized tokens'.format(correct2))\n",
    "print('{}\\t- total'.format(count2))"
   ]
  },
  {
   "cell_type": "markdown",
   "metadata": {},
   "source": [
    "### Linear regression with cosine proximity loss"
   ]
  },
  {
   "cell_type": "code",
   "execution_count": 62,
   "metadata": {},
   "outputs": [],
   "source": [
    "model3 = Sequential()\n",
    "model3.add(Dense(300, activation='linear', input_shape=(300,)))\n",
    "model3.compile(loss='cosine_proximity', optimizer=RMSprop())"
   ]
  },
  {
   "cell_type": "code",
   "execution_count": 63,
   "metadata": {
    "scrolled": true
   },
   "outputs": [
    {
     "data": {
      "text/plain": [
       "<keras.callbacks.History at 0x7fe5b8661208>"
      ]
     },
     "execution_count": 63,
     "metadata": {},
     "output_type": "execute_result"
    }
   ],
   "source": [
    "model3.fit(train_x['vec'], train_y['vec'], validation_data=(dev_x['vec'], dev_y['vec']), \n",
    "           epochs=50, batch_size=128, verbose=False)"
   ]
  },
  {
   "cell_type": "code",
   "execution_count": 64,
   "metadata": {},
   "outputs": [],
   "source": [
    "test_pred3 = model3.predict(test_x['vec'])\n",
    "score3, correct3, count3 = evaluate(test_pred3, test_y['form'])"
   ]
  },
  {
   "cell_type": "code",
   "execution_count": 65,
   "metadata": {},
   "outputs": [],
   "source": [
    "for w, l in zip(test_words, test_lemmas):\n",
    "    if w in oov or l in oov:\n",
    "        count3 += 1\n",
    "        if w == l:\n",
    "            correct3 += 1  # identity backoff\n",
    "            \n",
    "score3 = correct3 / count3"
   ]
  },
  {
   "cell_type": "code",
   "execution_count": 66,
   "metadata": {},
   "outputs": [
    {
     "name": "stdout",
     "output_type": "stream",
     "text": [
      "87.55%\t- accuracy on test set\n",
      "1751\t- correctly lemmatized tokens\n",
      "2000\t- total\n"
     ]
    }
   ],
   "source": [
    "print('{:.2f}%\\t- accuracy on test set'.format(100 * score3))\n",
    "print('{}\\t- correctly lemmatized tokens'.format(correct3))\n",
    "print('{}\\t- total'.format(count3))"
   ]
  },
  {
   "cell_type": "markdown",
   "metadata": {},
   "source": [
    "Using cosine proximity produced significantly better results than MSE and MAE."
   ]
  },
  {
   "cell_type": "markdown",
   "metadata": {},
   "source": [
    "#### Demonstration"
   ]
  },
  {
   "cell_type": "code",
   "execution_count": 84,
   "metadata": {},
   "outputs": [],
   "source": [
    "def lemmatize(tokens):\n",
    "    \"\"\"\n",
    "    input: list of tokens\n",
    "    output: list of input tokens' predicted lemmas\n",
    "    \"\"\"\n",
    "    lemmas = []\n",
    "    for token in tokens:\n",
    "        try:\n",
    "            vec = vec_model[token].reshape((1, 300))\n",
    "            pred = model3.predict(vec)[0]\n",
    "            lemmas.append(vec_model.most_similar(positive=[pred], topn=1)[0][0])\n",
    "        except Exception as e:\n",
    "            print(e)\n",
    "            print(token)\n",
    "            lemmas.append(token)\n",
    "    return lemmas"
   ]
  },
  {
   "cell_type": "code",
   "execution_count": 86,
   "metadata": {},
   "outputs": [
    {
     "data": {
      "text/plain": [
       "['I', 'know', 'he', 'because', 'he', 'have', 'attend', 'my', 'school', '.']"
      ]
     },
     "execution_count": 86,
     "metadata": {},
     "output_type": "execute_result"
    }
   ],
   "source": [
    "lemmatize(\"I knew him because he had attended my school .\".split(' '))"
   ]
  }
 ],
 "metadata": {
  "anaconda-cloud": {},
  "kernelspec": {
   "display_name": "Python 3",
   "language": "python",
   "name": "python3"
  },
  "language_info": {
   "codemirror_mode": {
    "name": "ipython",
    "version": 3
   },
   "file_extension": ".py",
   "mimetype": "text/x-python",
   "name": "python",
   "nbconvert_exporter": "python",
   "pygments_lexer": "ipython3",
   "version": "3.5.2"
  }
 },
 "nbformat": 4,
 "nbformat_minor": 1
}
